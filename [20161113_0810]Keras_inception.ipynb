{
 "cells": [
  {
   "cell_type": "code",
   "execution_count": 1,
   "metadata": {
    "collapsed": false
   },
   "outputs": [
    {
     "name": "stderr",
     "output_type": "stream",
     "text": [
      "Using Theano backend.\n",
      "Using gpu device 0: GeForce GTX TITAN X (CNMeM is enabled with initial size: 75.0% of memory, cuDNN 5105)\n",
      "/home/ipl/anaconda3/lib/python3.5/site-packages/theano/sandbox/cuda/__init__.py:600: UserWarning: Your cuDNN version is more recent than the one Theano officially supports. If you see any problems, try updating Theano or downgrading cuDNN to version 5.\n",
      "  warnings.warn(warn)\n"
     ]
    }
   ],
   "source": [
    "\n",
    "import sys\n",
    "sys.setrecursionlimit(99999)\n",
    "import os\n",
    "import glob\n",
    "import cv2\n",
    "import math\n",
    "import pickle\n",
    "import datetime\n",
    "import pandas as pd\n",
    "import statistics\n",
    "import keras\n",
    "import keras.backend as K\n",
    "import h5py\n",
    "import numpy as np\n",
    "np.random.seed(2016)\n",
    "\n",
    "from sklearn.cross_validation import KFold\n",
    "\n",
    "from sklearn.cross_validation import train_test_split\n",
    "from sklearn.metrics import log_loss\n",
    "from keras import optimizers\n",
    "from keras.optimizers import RMSprop, SGD\n",
    "from keras.models import Sequential\n",
    "from keras.layers.core import Dense, Dropout, Activation, Flatten\n",
    "from keras.layers.convolutional import Convolution2D, MaxPooling2D, ZeroPadding2D, AveragePooling2D\n",
    "from keras.layers.normalization import BatchNormalization\n",
    "from keras.layers import Input, merge, Activation, Dropout, Flatten, Dense\n",
    "from keras.models import Model, model_from_json\n",
    "from keras.utils import np_utils\n",
    "from keras.callbacks import ModelCheckpoint\n",
    "from keras.datasets import cifar10\n",
    "from keras.preprocessing.image import ImageDataGenerator\n",
    "from keras.regularizers import l2\n"
   ]
  },
  {
   "cell_type": "code",
   "execution_count": 3,
   "metadata": {
    "collapsed": true
   },
   "outputs": [],
   "source": [
    "#現在可以跳過~\n",
    "train_data_dir = '/home/ipl/Fish/C0_rotate'\n",
    "def build(source=None):\n",
    "    datagen = ImageDataGenerator(rescale=1. / 255)\n",
    "    data_generator = datagen.flow_from_directory(\n",
    "    source,  # this is the target directory\n",
    "    target_size=(256, 256),  # all images will be resized to 150x150\n",
    "    batch_size=11,\n",
    "    class_mode='categorical')\n",
    "    class_dictionary = data_generator.class_indices\n",
    "    return data_generator, class_dictionary"
   ]
  },
  {
   "cell_type": "code",
   "execution_count": 4,
   "metadata": {
    "collapsed": false
   },
   "outputs": [
    {
     "name": "stdout",
     "output_type": "stream",
     "text": [
      "Found 6740 images belonging to 146 classes.\n"
     ]
    }
   ],
   "source": [
    "data_generator,class_dictionary=build(train_data_dir)"
   ]
  },
  {
   "cell_type": "code",
   "execution_count": 5,
   "metadata": {
    "collapsed": true
   },
   "outputs": [],
   "source": [
    "path=data_generator.directory"
   ]
  },
  {
   "cell_type": "code",
   "execution_count": null,
   "metadata": {
    "collapsed": true
   },
   "outputs": [],
   "source": []
  },
  {
   "cell_type": "code",
   "execution_count": 12,
   "metadata": {
    "collapsed": true
   },
   "outputs": [],
   "source": [
    "indice=data_generator.class_indices\n",
    "arrindice=list(sorted((indice.keys())))"
   ]
  },
  {
   "cell_type": "code",
   "execution_count": 13,
   "metadata": {
    "collapsed": false,
    "scrolled": true
   },
   "outputs": [
    {
     "data": {
      "text/plain": [
       "['Alaska Skate',\n",
       " 'Alcyonidium pedunculatum',\n",
       " 'Aleutian Alligatorfish',\n",
       " 'Aleutian Skate',\n",
       " 'Antlered Sculpin',\n",
       " 'Argis ovifer',\n",
       " 'Arrowtooth Flounder',\n",
       " 'Ascidia paratropa',\n",
       " 'Atka Mackerel',\n",
       " 'Bairdi Tanner Crab',\n",
       " 'Balanus Sp',\n",
       " 'Barnacle',\n",
       " 'Bathymaster Signatus',\n",
       " 'Bathyplotes sp',\n",
       " 'Bathyraja mariposa',\n",
       " 'Bathyraja maripose egg case',\n",
       " 'Berryteuthis magister',\n",
       " 'Black Rockfish',\n",
       " 'Black Spotted Rockfish',\n",
       " 'Brown King Crab',\n",
       " 'Bryozoichthys lysimus',\n",
       " 'Bryozoichthys marjorius',\n",
       " 'Calcigorgia spiculifera',\n",
       " 'Ceramaster Sp',\n",
       " 'Cheisraster Dawsinii',\n",
       " 'Chinook Salmon',\n",
       " 'Chrysaora melanaster',\n",
       " 'Chylamys Sp',\n",
       " 'Clinocardium Sp',\n",
       " 'Craniella Sp',\n",
       " 'Crella brunnea',\n",
       " 'Crossaster papposus',\n",
       " 'Cryogorgia koolsae',\n",
       " 'Cucumaria fallax',\n",
       " 'Dark Rockfish',\n",
       " 'Decapodiformes',\n",
       " 'Diplopteraster multipes',\n",
       " 'Docked Lumpsucker',\n",
       " 'Docked Snailfish',\n",
       " 'Dover Sole',\n",
       " 'Dusky Rockfish',\n",
       " 'Evasterias',\n",
       " 'Fanellia compressa',\n",
       " 'Flathead Sole',\n",
       " 'Fusitriton oregonensis',\n",
       " 'Ghost Sponge',\n",
       " 'Giant Grenadier',\n",
       " 'Golden King Crab',\n",
       " 'Gorgonocephalus eucemis',\n",
       " 'Great Sculpin',\n",
       " 'Greenland Turbot',\n",
       " 'Gymnocanthus Galeatus',\n",
       " 'Halibut',\n",
       " 'Haliclona digitata',\n",
       " 'Halicondria sp',\n",
       " 'Harlequin Rockfish',\n",
       " 'Hemilepidotus zapus',\n",
       " 'Henricia Sp',\n",
       " 'Hippasteria kurilensis',\n",
       " 'Hyas lyratus',\n",
       " 'Hypsagonus quadricornis',\n",
       " 'Icelus spiniger',\n",
       " 'Isodictya Sp',\n",
       " 'Kamchatka Flounder',\n",
       " 'Kelp Greenling',\n",
       " 'Korean Horsehair Crab',\n",
       " 'Latrunculia Sp',\n",
       " \"Leech's Storm Petrel\",\n",
       " 'Leopard Skate',\n",
       " 'Leptagonus frenatus',\n",
       " 'Lethasterias nanimensis',\n",
       " 'Limopsis akutanica',\n",
       " 'Longnose Poacher',\n",
       " 'Lycodes beringi',\n",
       " 'Lycodes concolor',\n",
       " 'Lyre Crab',\n",
       " 'Malacocottus zonurus',\n",
       " 'Monanchora pulchra',\n",
       " 'Mud Skate',\n",
       " 'Muriceides nigra',\n",
       " 'Mycale loveni',\n",
       " 'Northern Rockfish',\n",
       " 'Northern Rocksole',\n",
       " 'Notostomum cycloslomum',\n",
       " 'Nudibranch',\n",
       " 'Odontohenricia sp',\n",
       " 'Ophiacantha Sp',\n",
       " 'Ophiura sarsi',\n",
       " 'Oregonia gracilis',\n",
       " 'Pacific Bobtail Squid',\n",
       " 'Pacific Cod',\n",
       " 'Pacific Halibut',\n",
       " 'Pacific Ocean Perch',\n",
       " 'Pacific Octopus',\n",
       " 'Pacific Sandlance',\n",
       " 'Pacific Spiny Lumpsucker',\n",
       " 'Pandalopsis Sp',\n",
       " 'Pandalopsis lamelligera',\n",
       " 'Pandalus tridens',\n",
       " 'Paragorgia arborea',\n",
       " 'Plain Sculpin',\n",
       " 'Plumarella',\n",
       " 'Plumarella Sp',\n",
       " 'Plumarella Species 1',\n",
       " 'Plumarella Species B',\n",
       " 'Plumarella Superba',\n",
       " 'Polymastia sp',\n",
       " 'Prowfish',\n",
       " 'Psolus Sp',\n",
       " 'Pteraster Sp',\n",
       " 'Red Banded Rockfish',\n",
       " 'Rex Sole',\n",
       " 'Rock Greenling',\n",
       " 'Rossia Pacifica',\n",
       " 'Sablefish',\n",
       " 'Salmon Snailfish',\n",
       " 'Sand Dollar',\n",
       " 'Scaled Crab',\n",
       " 'Scapula Sp',\n",
       " 'Sea Peach',\n",
       " 'Semisuberites cribrosa',\n",
       " 'Sharpchin Rockfish',\n",
       " 'Short Raker Rockfish',\n",
       " 'Short Spine Thornyhead',\n",
       " 'Shortraker Rockfish',\n",
       " 'Smooth Lumpsucker',\n",
       " 'Snailfish',\n",
       " 'Solaster dawsoni',\n",
       " 'Spectacled Sculpin',\n",
       " 'Spiny Lumpsucker',\n",
       " 'Spinyhead Sculpin',\n",
       " 'Stegophiura ponderosa',\n",
       " 'Strongylocentrotus Sp',\n",
       " 'Sturgeon Poacher',\n",
       " 'Styela rustica',\n",
       " 'Stylaster',\n",
       " 'Synallactes challengri',\n",
       " 'Toad Lumpsucker',\n",
       " 'Triglops Forficata',\n",
       " 'Triglops Scepticus',\n",
       " 'Triglops macellus',\n",
       " 'Tunicate',\n",
       " 'Walleye Pollock',\n",
       " 'Wattled Eelpout',\n",
       " 'White Blotched Skate',\n",
       " 'Yelllow Irish Lord']"
      ]
     },
     "execution_count": 13,
     "metadata": {},
     "output_type": "execute_result"
    }
   ],
   "source": [
    "arrindice"
   ]
  },
  {
   "cell_type": "code",
   "execution_count": null,
   "metadata": {
    "collapsed": true
   },
   "outputs": [],
   "source": []
  },
  {
   "cell_type": "code",
   "execution_count": null,
   "metadata": {
    "collapsed": true
   },
   "outputs": [],
   "source": []
  },
  {
   "cell_type": "code",
   "execution_count": null,
   "metadata": {
    "collapsed": true
   },
   "outputs": [],
   "source": []
  },
  {
   "cell_type": "code",
   "execution_count": 6,
   "metadata": {
    "collapsed": true
   },
   "outputs": [],
   "source": [
    "#2016/11/12 04:02  LOAD DATA !!!!\n",
    "\n",
    "# 1. 用data generater讀取圖片位址跟class\n",
    "# 現在只要用load就可以了 \n",
    "X=np.load('/home/ipl/Fish/X.npy')\n",
    "y=np.load('/home/ipl/Fish/y.npy')\n",
    "y_binary=np.load('/home/ipl/Fish/y_binary.npy')\n",
    "\n",
    "\n",
    "#這個版本式沒有做Data Augumetation的\n",
    "###會不會做normalization有影響? \n",
    "#因為現在是有做的，可以試試看沒有做的?\n"
   ]
  },
  {
   "cell_type": "code",
   "execution_count": 9,
   "metadata": {
    "collapsed": false
   },
   "outputs": [
    {
     "data": {
      "text/plain": [
       "(6740, 3, 224, 224)"
      ]
     },
     "execution_count": 9,
     "metadata": {},
     "output_type": "execute_result"
    }
   ],
   "source": [
    "train_data=X\n",
    "train_data.shape"
   ]
  },
  {
   "cell_type": "code",
   "execution_count": 10,
   "metadata": {
    "collapsed": true
   },
   "outputs": [],
   "source": [
    "\n",
    "#2. shuffle\n",
    "from sklearn.utils import shuffle\n",
    "train_data_shuffle,y_shuffle, y_binary_shuffle = shuffle(train_data,y, y_binary, random_state=0)\n"
   ]
  },
  {
   "cell_type": "code",
   "execution_count": 26,
   "metadata": {
    "collapsed": true
   },
   "outputs": [],
   "source": [
    "#3.#20161113 04:16  train_test_split   抽出後面２０%  \n",
    "#######################################\n",
    "X_train, X_test, y_train, y_test = train_test_split(train_data_shuffle, y_binary_shuffle, test_size=0.33, random_state=42)"
   ]
  },
  {
   "cell_type": "code",
   "execution_count": 27,
   "metadata": {
    "collapsed": false
   },
   "outputs": [
    {
     "name": "stdout",
     "output_type": "stream",
     "text": [
      "X_train.shape:   (4515, 3, 224, 224)\n",
      "y_train.shape:   (4515, 146)\n",
      "------\n",
      "X_test.shape:   (2225, 3, 224, 224)\n",
      "y_test.shape:   (2225, 146)\n"
     ]
    }
   ],
   "source": [
    "print(\"X_train.shape:  \",X_train.shape)\n",
    "print(\"y_train.shape:  \",y_train.shape)\n",
    "print(\"------\")\n",
    "print(\"X_test.shape:  \",X_test.shape)\n",
    "print(\"y_test.shape:  \",y_test.shape)"
   ]
  },
  {
   "cell_type": "code",
   "execution_count": 29,
   "metadata": {
    "collapsed": false
   },
   "outputs": [],
   "source": [
    "#y_train[5]"
   ]
  },
  {
   "cell_type": "code",
   "execution_count": 16,
   "metadata": {
    "collapsed": true
   },
   "outputs": [],
   "source": [
    "def get_actual_pred_proba(raw_pred_proba):\n",
    "    pred_proba = np.zeros((len(raw_pred_proba), 146))\n",
    "    for i, label in enumerate(np.unique(y_train)):\n",
    "        print(i,\"  Lable: \",label)\n",
    "        pred_proba[:, label] = raw_pred_proba[:, i]\n",
    "    return pred_proba"
   ]
  },
  {
   "cell_type": "code",
   "execution_count": null,
   "metadata": {
    "collapsed": true
   },
   "outputs": [],
   "source": []
  },
  {
   "cell_type": "code",
   "execution_count": null,
   "metadata": {
    "collapsed": true
   },
   "outputs": [],
   "source": [
    "#######################################"
   ]
  },
  {
   "cell_type": "code",
   "execution_count": null,
   "metadata": {
    "collapsed": true
   },
   "outputs": [],
   "source": []
  },
  {
   "cell_type": "code",
   "execution_count": 17,
   "metadata": {
    "collapsed": true
   },
   "outputs": [],
   "source": [
    "#下面要開始做inception modle"
   ]
  },
  {
   "cell_type": "code",
   "execution_count": 18,
   "metadata": {
    "collapsed": true
   },
   "outputs": [],
   "source": [
    "from keras.applications.inception_v3 import InceptionV3\n",
    "from keras.preprocessing import image\n",
    "from keras.models import Model\n",
    "from keras.layers import Dense, GlobalAveragePooling2D\n",
    "from keras import backend as K\n",
    "\n",
    "# create the base pre-trained model\n",
    "base_model = InceptionV3(weights='imagenet', include_top=False)\n"
   ]
  },
  {
   "cell_type": "code",
   "execution_count": 19,
   "metadata": {
    "collapsed": true
   },
   "outputs": [],
   "source": [
    "# add a global spatial average pooling layer\n",
    "x = base_model.output\n",
    "x = GlobalAveragePooling2D()(x)\n",
    "# let's add a fully-connected layer\n",
    "x = Dense(1024, activation='relu')(x)\n",
    "# and a logistic layer -- let's say we have 200 classes\n",
    "predictions = Dense(146, activation='softmax')(x)\n",
    "\n",
    "# this is the model we will train\n",
    "model = Model(input=base_model.input, output=predictions)\n",
    "\n",
    "# first: train only the top layers (which were randomly initialized)\n",
    "# i.e. freeze all convolutional InceptionV3 layers\n",
    "for layer in base_model.layers:\n",
    "    layer.trainable = False"
   ]
  },
  {
   "cell_type": "code",
   "execution_count": 20,
   "metadata": {
    "collapsed": true
   },
   "outputs": [],
   "source": [
    "# compile the model (should be done *after* setting layers to non-trainable)\n",
    "model.compile(optimizer='sgd', loss='categorical_crossentropy',metrics=['accuracy'])"
   ]
  },
  {
   "cell_type": "code",
   "execution_count": 31,
   "metadata": {
    "collapsed": false
   },
   "outputs": [
    {
     "name": "stdout",
     "output_type": "stream",
     "text": [
      "Train on 4515 samples, validate on 2225 samples\n",
      "Epoch 1/20\n",
      "4515/4515 [==============================] - 31s - loss: 3.6787 - acc: 0.1838 - val_loss: 5.1713 - val_acc: 0.1169\n",
      "Epoch 2/20\n",
      "4515/4515 [==============================] - 31s - loss: 2.7558 - acc: 0.3517 - val_loss: 3.2860 - val_acc: 0.2912\n",
      "Epoch 3/20\n",
      "4515/4515 [==============================] - 31s - loss: 2.4375 - acc: 0.4215 - val_loss: 2.7827 - val_acc: 0.3942\n",
      "Epoch 4/20\n",
      "4515/4515 [==============================] - 31s - loss: 2.2128 - acc: 0.4731 - val_loss: 2.5611 - val_acc: 0.4436\n",
      "Epoch 5/20\n",
      "4515/4515 [==============================] - 31s - loss: 2.0322 - acc: 0.5110 - val_loss: 2.4313 - val_acc: 0.4629\n",
      "Epoch 6/20\n",
      "4515/4515 [==============================] - 31s - loss: 1.9034 - acc: 0.5389 - val_loss: 2.3563 - val_acc: 0.4773\n",
      "Epoch 7/20\n",
      "4515/4515 [==============================] - 31s - loss: 1.7911 - acc: 0.5619 - val_loss: 2.2856 - val_acc: 0.5074\n",
      "Epoch 8/20\n",
      "4515/4515 [==============================] - 31s - loss: 1.6665 - acc: 0.5971 - val_loss: 2.2244 - val_acc: 0.5164\n",
      "Epoch 9/20\n",
      "4515/4515 [==============================] - 31s - loss: 1.5986 - acc: 0.6102 - val_loss: 2.1571 - val_acc: 0.5258\n",
      "Epoch 10/20\n",
      "4515/4515 [==============================] - 31s - loss: 1.5060 - acc: 0.6306 - val_loss: 2.1085 - val_acc: 0.5317\n",
      "Epoch 11/20\n",
      "4515/4515 [==============================] - 31s - loss: 1.4294 - acc: 0.6569 - val_loss: 2.0852 - val_acc: 0.5267\n",
      "Epoch 12/20\n",
      "4515/4515 [==============================] - 31s - loss: 1.3682 - acc: 0.6640 - val_loss: 2.0299 - val_acc: 0.5411\n",
      "Epoch 13/20\n",
      "4515/4515 [==============================] - 31s - loss: 1.3145 - acc: 0.6729 - val_loss: 1.9983 - val_acc: 0.5573\n",
      "Epoch 14/20\n",
      "4515/4515 [==============================] - 31s - loss: 1.2608 - acc: 0.6870 - val_loss: 1.9321 - val_acc: 0.5649\n",
      "Epoch 15/20\n",
      "4515/4515 [==============================] - 31s - loss: 1.2118 - acc: 0.7001 - val_loss: 1.9354 - val_acc: 0.5578\n",
      "Epoch 16/20\n",
      "4515/4515 [==============================] - 31s - loss: 1.1716 - acc: 0.7125 - val_loss: 1.9322 - val_acc: 0.5613\n",
      "Epoch 17/20\n",
      "4515/4515 [==============================] - 31s - loss: 1.1184 - acc: 0.7267 - val_loss: 1.9319 - val_acc: 0.5506\n",
      "Epoch 18/20\n",
      "4515/4515 [==============================] - 31s - loss: 1.0774 - acc: 0.7386 - val_loss: 1.8862 - val_acc: 0.5519\n",
      "Epoch 19/20\n",
      "4515/4515 [==============================] - 31s - loss: 1.0595 - acc: 0.7340 - val_loss: 1.8582 - val_acc: 0.5717\n",
      "Epoch 20/20\n",
      "4515/4515 [==============================] - 31s - loss: 1.0102 - acc: 0.7522 - val_loss: 1.8208 - val_acc: 0.5757\n"
     ]
    }
   ],
   "source": [
    "# model.fit(train_data, y, batch_size=64, nb_epoch=50,\n",
    "#               show_accuracy=True, verbose=1, validation_split=0.2)\n",
    "hist=model.fit(x=X_train, y=y_train,\n",
    "              batch_size=32,\n",
    "              nb_epoch=20,\n",
    "              validation_data=(X_test,y_test),\n",
    "              verbose=1)"
   ]
  },
  {
   "cell_type": "code",
   "execution_count": 32,
   "metadata": {
    "collapsed": false,
    "scrolled": false
   },
   "outputs": [
    {
     "name": "stdout",
     "output_type": "stream",
     "text": [
      "{'val_acc': [0.11685393258594395, 0.29123595506287692, 0.39415730346454664, 0.44359550565816042, 0.46292134835478965, 0.47730337082669977, 0.50741573055138744, 0.5164044943954168, 0.52584269666939643, 0.53168539327182129, 0.52674157324801674, 0.54112359551901223, 0.5573033707999111, 0.56494382043902791, 0.55775280920307291, 0.56134831482105041, 0.55056179796711779, 0.55191011257385936, 0.57168539347273584, 0.57573033726617195], 'acc': [0.18383167220376523, 0.35171650056031062, 0.42148394241417497, 0.47308970099667774, 0.51096345515610242, 0.53887043190028849, 0.56190476190476191, 0.59712070874861578, 0.61018826135765281, 0.63056478405975691, 0.65692137321364441, 0.66400885936429732, 0.6728682170608643, 0.68704318938197229, 0.70011074197780787, 0.71251384275960239, 0.72668881507410954, 0.738648947964475, 0.73399778517377734, 0.75215946845173964], 'val_loss': [5.1713030680109942, 3.2859904569990181, 2.7827015075254975, 2.5611257336648663, 2.4312517365444912, 2.3562885275851473, 2.2855632192633126, 2.2244293155027242, 2.1570546098773398, 2.1085144369789726, 2.0852105475007816, 2.0298621572001596, 1.9983396888047122, 1.9321150789368018, 1.9354359552833471, 1.9322007072105836, 1.9318828833505008, 1.8861588737402069, 1.8581523830971021, 1.8207629074139542], 'loss': [3.6787490139239916, 2.7558047451978243, 2.4375305758758241, 2.2128346902587483, 2.0321792898780089, 1.9033922877950658, 1.7911104493759002, 1.6664778828752926, 1.5985886480853142, 1.5059584855769297, 1.4294249053545305, 1.3682392330528759, 1.3144680133557662, 1.2608121436035646, 1.2118178242464794, 1.1715828257673735, 1.1184313831139245, 1.077394151265175, 1.0595080554419314, 1.0102189429178587]}\n"
     ]
    }
   ],
   "source": [
    "print(hist.history)"
   ]
  },
  {
   "cell_type": "code",
   "execution_count": null,
   "metadata": {
    "collapsed": true
   },
   "outputs": [],
   "source": []
  },
  {
   "cell_type": "code",
   "execution_count": null,
   "metadata": {
    "collapsed": true
   },
   "outputs": [],
   "source": []
  },
  {
   "cell_type": "code",
   "execution_count": null,
   "metadata": {
    "collapsed": true
   },
   "outputs": [],
   "source": []
  },
  {
   "cell_type": "code",
   "execution_count": null,
   "metadata": {
    "collapsed": true
   },
   "outputs": [],
   "source": []
  },
  {
   "cell_type": "code",
   "execution_count": null,
   "metadata": {
    "collapsed": true
   },
   "outputs": [],
   "source": [
    "#炫技用 view layers name \n",
    "\n",
    "# at this point, the top layers are well trained and we can start fine-tuning\n",
    "# convolutional layers from inception V3. We will freeze the bottom N layers\n",
    "# and train the remaining top layers.\n",
    "\n",
    "# let's visualize layer names and layer indices to see how many layers\n",
    "# we should freeze:\n",
    "for i, layer in enumerate(base_model.layers):\n",
    "   print(i, layer.name)\n",
    "\n",
    "# we chose to train the top 2 inception blocks, i.e. we will freeze\n",
    "# the first 172 layers and unfreeze the rest:\n",
    "for layer in model.layers[:172]:\n",
    "   layer.trainable = False\n",
    "for layer in model.layers[172:]:\n",
    "   layer.trainable = True\n"
   ]
  },
  {
   "cell_type": "code",
   "execution_count": null,
   "metadata": {
    "collapsed": true
   },
   "outputs": [],
   "source": []
  }
 ],
 "metadata": {
  "anaconda-cloud": {},
  "kernelspec": {
   "display_name": "Python [conda root]",
   "language": "python",
   "name": "conda-root-py"
  },
  "language_info": {
   "codemirror_mode": {
    "name": "ipython",
    "version": 3
   },
   "file_extension": ".py",
   "mimetype": "text/x-python",
   "name": "python",
   "nbconvert_exporter": "python",
   "pygments_lexer": "ipython3",
   "version": "3.5.2"
  }
 },
 "nbformat": 4,
 "nbformat_minor": 1
}
